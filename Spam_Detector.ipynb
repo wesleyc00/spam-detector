{
  "nbformat": 4,
  "nbformat_minor": 0,
  "metadata": {
    "colab": {
      "provenance": [],
      "include_colab_link": true
    },
    "kernelspec": {
      "name": "python3",
      "display_name": "Python 3"
    },
    "language_info": {
      "name": "python"
    }
  },
  "cells": [
    {
      "cell_type": "markdown",
      "metadata": {
        "id": "view-in-github",
        "colab_type": "text"
      },
      "source": [
        "<a href=\"https://colab.research.google.com/github/wesleyc00/spam-detector/blob/main/Spam_Detector.ipynb\" target=\"_parent\"><img src=\"https://colab.research.google.com/assets/colab-badge.svg\" alt=\"Open In Colab\"/></a>"
      ]
    },
    {
      "cell_type": "markdown",
      "source": [
        "# Carregar dataset"
      ],
      "metadata": {
        "id": "YDlPi3-rHAZi"
      }
    },
    {
      "cell_type": "code",
      "execution_count": 1,
      "metadata": {
        "colab": {
          "base_uri": "https://localhost:8080/",
          "height": 206
        },
        "id": "KyiylHru5PcP",
        "outputId": "4b5d4fa6-5813-4a81-9398-29cc2b5516a3"
      },
      "outputs": [
        {
          "output_type": "execute_result",
          "data": {
            "text/plain": [
              "  Categoria                                           Mensagem\n",
              "0       ham                                Oi, como você está?\n",
              "1      spam  Você ganhou um prêmio! Clique aqui para resgatar.\n",
              "2       ham        Estou disponível para nossa reunião amanhã.\n",
              "3      spam  Oferta exclusiva! 90% de desconto, aproveite a...\n",
              "4       ham  Poderíamos nos encontrar para discutir o projeto?"
            ],
            "text/html": [
              "\n",
              "  <div id=\"df-979f87c2-21e0-4bab-a233-d37fee96db5f\" class=\"colab-df-container\">\n",
              "    <div>\n",
              "<style scoped>\n",
              "    .dataframe tbody tr th:only-of-type {\n",
              "        vertical-align: middle;\n",
              "    }\n",
              "\n",
              "    .dataframe tbody tr th {\n",
              "        vertical-align: top;\n",
              "    }\n",
              "\n",
              "    .dataframe thead th {\n",
              "        text-align: right;\n",
              "    }\n",
              "</style>\n",
              "<table border=\"1\" class=\"dataframe\">\n",
              "  <thead>\n",
              "    <tr style=\"text-align: right;\">\n",
              "      <th></th>\n",
              "      <th>Categoria</th>\n",
              "      <th>Mensagem</th>\n",
              "    </tr>\n",
              "  </thead>\n",
              "  <tbody>\n",
              "    <tr>\n",
              "      <th>0</th>\n",
              "      <td>ham</td>\n",
              "      <td>Oi, como você está?</td>\n",
              "    </tr>\n",
              "    <tr>\n",
              "      <th>1</th>\n",
              "      <td>spam</td>\n",
              "      <td>Você ganhou um prêmio! Clique aqui para resgatar.</td>\n",
              "    </tr>\n",
              "    <tr>\n",
              "      <th>2</th>\n",
              "      <td>ham</td>\n",
              "      <td>Estou disponível para nossa reunião amanhã.</td>\n",
              "    </tr>\n",
              "    <tr>\n",
              "      <th>3</th>\n",
              "      <td>spam</td>\n",
              "      <td>Oferta exclusiva! 90% de desconto, aproveite a...</td>\n",
              "    </tr>\n",
              "    <tr>\n",
              "      <th>4</th>\n",
              "      <td>ham</td>\n",
              "      <td>Poderíamos nos encontrar para discutir o projeto?</td>\n",
              "    </tr>\n",
              "  </tbody>\n",
              "</table>\n",
              "</div>\n",
              "    <div class=\"colab-df-buttons\">\n",
              "\n",
              "  <div class=\"colab-df-container\">\n",
              "    <button class=\"colab-df-convert\" onclick=\"convertToInteractive('df-979f87c2-21e0-4bab-a233-d37fee96db5f')\"\n",
              "            title=\"Convert this dataframe to an interactive table.\"\n",
              "            style=\"display:none;\">\n",
              "\n",
              "  <svg xmlns=\"http://www.w3.org/2000/svg\" height=\"24px\" viewBox=\"0 -960 960 960\">\n",
              "    <path d=\"M120-120v-720h720v720H120Zm60-500h600v-160H180v160Zm220 220h160v-160H400v160Zm0 220h160v-160H400v160ZM180-400h160v-160H180v160Zm440 0h160v-160H620v160ZM180-180h160v-160H180v160Zm440 0h160v-160H620v160Z\"/>\n",
              "  </svg>\n",
              "    </button>\n",
              "\n",
              "  <style>\n",
              "    .colab-df-container {\n",
              "      display:flex;\n",
              "      gap: 12px;\n",
              "    }\n",
              "\n",
              "    .colab-df-convert {\n",
              "      background-color: #E8F0FE;\n",
              "      border: none;\n",
              "      border-radius: 50%;\n",
              "      cursor: pointer;\n",
              "      display: none;\n",
              "      fill: #1967D2;\n",
              "      height: 32px;\n",
              "      padding: 0 0 0 0;\n",
              "      width: 32px;\n",
              "    }\n",
              "\n",
              "    .colab-df-convert:hover {\n",
              "      background-color: #E2EBFA;\n",
              "      box-shadow: 0px 1px 2px rgba(60, 64, 67, 0.3), 0px 1px 3px 1px rgba(60, 64, 67, 0.15);\n",
              "      fill: #174EA6;\n",
              "    }\n",
              "\n",
              "    .colab-df-buttons div {\n",
              "      margin-bottom: 4px;\n",
              "    }\n",
              "\n",
              "    [theme=dark] .colab-df-convert {\n",
              "      background-color: #3B4455;\n",
              "      fill: #D2E3FC;\n",
              "    }\n",
              "\n",
              "    [theme=dark] .colab-df-convert:hover {\n",
              "      background-color: #434B5C;\n",
              "      box-shadow: 0px 1px 3px 1px rgba(0, 0, 0, 0.15);\n",
              "      filter: drop-shadow(0px 1px 2px rgba(0, 0, 0, 0.3));\n",
              "      fill: #FFFFFF;\n",
              "    }\n",
              "  </style>\n",
              "\n",
              "    <script>\n",
              "      const buttonEl =\n",
              "        document.querySelector('#df-979f87c2-21e0-4bab-a233-d37fee96db5f button.colab-df-convert');\n",
              "      buttonEl.style.display =\n",
              "        google.colab.kernel.accessAllowed ? 'block' : 'none';\n",
              "\n",
              "      async function convertToInteractive(key) {\n",
              "        const element = document.querySelector('#df-979f87c2-21e0-4bab-a233-d37fee96db5f');\n",
              "        const dataTable =\n",
              "          await google.colab.kernel.invokeFunction('convertToInteractive',\n",
              "                                                    [key], {});\n",
              "        if (!dataTable) return;\n",
              "\n",
              "        const docLinkHtml = 'Like what you see? Visit the ' +\n",
              "          '<a target=\"_blank\" href=https://colab.research.google.com/notebooks/data_table.ipynb>data table notebook</a>'\n",
              "          + ' to learn more about interactive tables.';\n",
              "        element.innerHTML = '';\n",
              "        dataTable['output_type'] = 'display_data';\n",
              "        await google.colab.output.renderOutput(dataTable, element);\n",
              "        const docLink = document.createElement('div');\n",
              "        docLink.innerHTML = docLinkHtml;\n",
              "        element.appendChild(docLink);\n",
              "      }\n",
              "    </script>\n",
              "  </div>\n",
              "\n",
              "\n",
              "<div id=\"df-0c700488-600a-40cb-8d5d-1592223e2f70\">\n",
              "  <button class=\"colab-df-quickchart\" onclick=\"quickchart('df-0c700488-600a-40cb-8d5d-1592223e2f70')\"\n",
              "            title=\"Suggest charts\"\n",
              "            style=\"display:none;\">\n",
              "\n",
              "<svg xmlns=\"http://www.w3.org/2000/svg\" height=\"24px\"viewBox=\"0 0 24 24\"\n",
              "     width=\"24px\">\n",
              "    <g>\n",
              "        <path d=\"M19 3H5c-1.1 0-2 .9-2 2v14c0 1.1.9 2 2 2h14c1.1 0 2-.9 2-2V5c0-1.1-.9-2-2-2zM9 17H7v-7h2v7zm4 0h-2V7h2v10zm4 0h-2v-4h2v4z\"/>\n",
              "    </g>\n",
              "</svg>\n",
              "  </button>\n",
              "\n",
              "<style>\n",
              "  .colab-df-quickchart {\n",
              "      --bg-color: #E8F0FE;\n",
              "      --fill-color: #1967D2;\n",
              "      --hover-bg-color: #E2EBFA;\n",
              "      --hover-fill-color: #174EA6;\n",
              "      --disabled-fill-color: #AAA;\n",
              "      --disabled-bg-color: #DDD;\n",
              "  }\n",
              "\n",
              "  [theme=dark] .colab-df-quickchart {\n",
              "      --bg-color: #3B4455;\n",
              "      --fill-color: #D2E3FC;\n",
              "      --hover-bg-color: #434B5C;\n",
              "      --hover-fill-color: #FFFFFF;\n",
              "      --disabled-bg-color: #3B4455;\n",
              "      --disabled-fill-color: #666;\n",
              "  }\n",
              "\n",
              "  .colab-df-quickchart {\n",
              "    background-color: var(--bg-color);\n",
              "    border: none;\n",
              "    border-radius: 50%;\n",
              "    cursor: pointer;\n",
              "    display: none;\n",
              "    fill: var(--fill-color);\n",
              "    height: 32px;\n",
              "    padding: 0;\n",
              "    width: 32px;\n",
              "  }\n",
              "\n",
              "  .colab-df-quickchart:hover {\n",
              "    background-color: var(--hover-bg-color);\n",
              "    box-shadow: 0 1px 2px rgba(60, 64, 67, 0.3), 0 1px 3px 1px rgba(60, 64, 67, 0.15);\n",
              "    fill: var(--button-hover-fill-color);\n",
              "  }\n",
              "\n",
              "  .colab-df-quickchart-complete:disabled,\n",
              "  .colab-df-quickchart-complete:disabled:hover {\n",
              "    background-color: var(--disabled-bg-color);\n",
              "    fill: var(--disabled-fill-color);\n",
              "    box-shadow: none;\n",
              "  }\n",
              "\n",
              "  .colab-df-spinner {\n",
              "    border: 2px solid var(--fill-color);\n",
              "    border-color: transparent;\n",
              "    border-bottom-color: var(--fill-color);\n",
              "    animation:\n",
              "      spin 1s steps(1) infinite;\n",
              "  }\n",
              "\n",
              "  @keyframes spin {\n",
              "    0% {\n",
              "      border-color: transparent;\n",
              "      border-bottom-color: var(--fill-color);\n",
              "      border-left-color: var(--fill-color);\n",
              "    }\n",
              "    20% {\n",
              "      border-color: transparent;\n",
              "      border-left-color: var(--fill-color);\n",
              "      border-top-color: var(--fill-color);\n",
              "    }\n",
              "    30% {\n",
              "      border-color: transparent;\n",
              "      border-left-color: var(--fill-color);\n",
              "      border-top-color: var(--fill-color);\n",
              "      border-right-color: var(--fill-color);\n",
              "    }\n",
              "    40% {\n",
              "      border-color: transparent;\n",
              "      border-right-color: var(--fill-color);\n",
              "      border-top-color: var(--fill-color);\n",
              "    }\n",
              "    60% {\n",
              "      border-color: transparent;\n",
              "      border-right-color: var(--fill-color);\n",
              "    }\n",
              "    80% {\n",
              "      border-color: transparent;\n",
              "      border-right-color: var(--fill-color);\n",
              "      border-bottom-color: var(--fill-color);\n",
              "    }\n",
              "    90% {\n",
              "      border-color: transparent;\n",
              "      border-bottom-color: var(--fill-color);\n",
              "    }\n",
              "  }\n",
              "</style>\n",
              "\n",
              "  <script>\n",
              "    async function quickchart(key) {\n",
              "      const quickchartButtonEl =\n",
              "        document.querySelector('#' + key + ' button');\n",
              "      quickchartButtonEl.disabled = true;  // To prevent multiple clicks.\n",
              "      quickchartButtonEl.classList.add('colab-df-spinner');\n",
              "      try {\n",
              "        const charts = await google.colab.kernel.invokeFunction(\n",
              "            'suggestCharts', [key], {});\n",
              "      } catch (error) {\n",
              "        console.error('Error during call to suggestCharts:', error);\n",
              "      }\n",
              "      quickchartButtonEl.classList.remove('colab-df-spinner');\n",
              "      quickchartButtonEl.classList.add('colab-df-quickchart-complete');\n",
              "    }\n",
              "    (() => {\n",
              "      let quickchartButtonEl =\n",
              "        document.querySelector('#df-0c700488-600a-40cb-8d5d-1592223e2f70 button');\n",
              "      quickchartButtonEl.style.display =\n",
              "        google.colab.kernel.accessAllowed ? 'block' : 'none';\n",
              "    })();\n",
              "  </script>\n",
              "</div>\n",
              "\n",
              "    </div>\n",
              "  </div>\n"
            ],
            "application/vnd.google.colaboratory.intrinsic+json": {
              "type": "dataframe",
              "variable_name": "spam_df",
              "summary": "{\n  \"name\": \"spam_df\",\n  \"rows\": 291,\n  \"fields\": [\n    {\n      \"column\": \"Categoria\",\n      \"properties\": {\n        \"dtype\": \"category\",\n        \"num_unique_values\": 2,\n        \"samples\": [\n          \"spam\",\n          \"ham\"\n        ],\n        \"semantic_type\": \"\",\n        \"description\": \"\"\n      }\n    },\n    {\n      \"column\": \"Mensagem\",\n      \"properties\": {\n        \"dtype\": \"string\",\n        \"num_unique_values\": 272,\n        \"samples\": [\n          \"Precisamos revisar o or\\u00e7amento antes da reuni\\u00e3o.\",\n          \"Voc\\u00ea tem alguma sugest\\u00e3o para o presente do Jo\\u00e3o?\"\n        ],\n        \"semantic_type\": \"\",\n        \"description\": \"\"\n      }\n    }\n  ]\n}"
            }
          },
          "metadata": {},
          "execution_count": 1
        }
      ],
      "source": [
        "import pandas as pd\n",
        "# Carregar arquivo txt\n",
        "spam_df = pd.read_csv('dataset_spam_pt_br.txt', sep=',')\n",
        "spam_df.head()"
      ]
    },
    {
      "cell_type": "markdown",
      "source": [
        "# Converter Rótulos para Numéricos"
      ],
      "metadata": {
        "id": "tKBhPMviJVCd"
      }
    },
    {
      "cell_type": "code",
      "source": [
        "# Convertendo rótulos para valores numéricos\n",
        "spam_df['Categoria'] = spam_df['Categoria'].map({'ham': 0, 'spam': 1}) # 0 = ham (Não spam); 1 = spam.\n",
        "\n",
        "print(spam_df.head())"
      ],
      "metadata": {
        "colab": {
          "base_uri": "https://localhost:8080/"
        },
        "id": "DGh_v57jG8HU",
        "outputId": "bf67950f-39c9-4d98-d0f7-0776e6370e2b"
      },
      "execution_count": 2,
      "outputs": [
        {
          "output_type": "stream",
          "name": "stdout",
          "text": [
            "   Categoria                                           Mensagem\n",
            "0          0                                Oi, como você está?\n",
            "1          1  Você ganhou um prêmio! Clique aqui para resgatar.\n",
            "2          0        Estou disponível para nossa reunião amanhã.\n",
            "3          1  Oferta exclusiva! 90% de desconto, aproveite a...\n",
            "4          0  Poderíamos nos encontrar para discutir o projeto?\n"
          ]
        }
      ]
    },
    {
      "cell_type": "markdown",
      "source": [
        "# Pré-Processamento dos Dados"
      ],
      "metadata": {
        "id": "82FkgouUMVk9"
      }
    },
    {
      "cell_type": "code",
      "source": [
        "import re\n",
        "import nltk\n",
        "from nltk.corpus import stopwords\n",
        "from nltk.stem import PorterStemmer\n",
        "\n",
        "nltk.download('stopwords')\n",
        "stop_words = set(stopwords.words('portuguese'))\n",
        "stemmer = PorterStemmer()\n",
        "\n",
        "def preprocess_text(text):\n",
        "    text = text.lower()  # Converter para minúsculas\n",
        "    text = re.sub(r'\\W', ' ', text)  # Remover caracteres especiais\n",
        "    text = re.sub(r'\\s+', ' ', text).strip()  # Remover espaços extras\n",
        "    words = text.split()\n",
        "    words = [stemmer.stem(word) for word in words if word not in stop_words]\n",
        "    return ' '.join(words)\n",
        "\n",
        "spam_df['processed_message'] = spam_df['Mensagem'].apply(preprocess_text)\n",
        "\n",
        "print(spam_df)"
      ],
      "metadata": {
        "colab": {
          "base_uri": "https://localhost:8080/"
        },
        "id": "9rvxp5PwMwAm",
        "outputId": "40b4c975-1dda-4499-9a47-9dabd0db2225"
      },
      "execution_count": 3,
      "outputs": [
        {
          "output_type": "stream",
          "name": "stderr",
          "text": [
            "[nltk_data] Downloading package stopwords to /root/nltk_data...\n",
            "[nltk_data]   Unzipping corpora/stopwords.zip.\n"
          ]
        },
        {
          "output_type": "stream",
          "name": "stdout",
          "text": [
            "     Categoria                                           Mensagem  \\\n",
            "0            0                                Oi, como você está?   \n",
            "1            1  Você ganhou um prêmio! Clique aqui para resgatar.   \n",
            "2            0        Estou disponível para nossa reunião amanhã.   \n",
            "3            1  Oferta exclusiva! 90% de desconto, aproveite a...   \n",
            "4            0  Poderíamos nos encontrar para discutir o projeto?   \n",
            "..         ...                                                ...   \n",
            "286          1                      Temos novidades no Inter Loop   \n",
            "287          0                           Envio da NFe - Emitente:   \n",
            "288          1  Quase. Quase. Está quase acabando | Ofertas do...   \n",
            "289          0               Seu relatório de ganhos ficou pronto   \n",
            "290          1         A performance e os preços que você queria.   \n",
            "\n",
            "                               processed_message  \n",
            "0                                             oi  \n",
            "1              ganhou prêmio cliqu aqui resgatar  \n",
            "2                      disponível reunião amanhã  \n",
            "3    oferta exclusiva 90 desconto aproveit agora  \n",
            "4           poderíamo encontrar discutir projeto  \n",
            "..                                           ...  \n",
            "286                           novidad inter loop  \n",
            "287                            envio nfe emitent  \n",
            "288    quas quas quas acabando oferta consumidor  \n",
            "289                 relatório ganho ficou pronto  \n",
            "290                         perform preço queria  \n",
            "\n",
            "[291 rows x 3 columns]\n"
          ]
        }
      ]
    },
    {
      "cell_type": "markdown",
      "source": [
        "# Converter Texto em Vetores"
      ],
      "metadata": {
        "id": "aBaoMgEsOdht"
      }
    },
    {
      "cell_type": "code",
      "source": [
        "from sklearn.feature_extraction.text import TfidfVectorizer\n",
        "\n",
        "vectorizer = TfidfVectorizer(max_features=5000)\n",
        "X = vectorizer.fit_transform(spam_df['processed_message']).toarray()\n",
        "y = spam_df['Categoria']"
      ],
      "metadata": {
        "id": "wpX9eIQVN0AF"
      },
      "execution_count": 4,
      "outputs": []
    },
    {
      "cell_type": "markdown",
      "source": [
        "# Treinar ML"
      ],
      "metadata": {
        "id": "-knV-g-VOh2C"
      }
    },
    {
      "cell_type": "code",
      "source": [
        "from sklearn.model_selection import train_test_split\n",
        "from sklearn.naive_bayes import MultinomialNB\n",
        "from sklearn.metrics import accuracy_score, classification_report\n",
        "\n",
        "# Dividir os dados em treino e teste\n",
        "X_train, X_test, y_train, y_test = train_test_split(X, y, test_size=0.3, random_state=42)\n",
        "\n",
        "# Treinar o modelo\n",
        "model = MultinomialNB()\n",
        "model.fit(X_train, y_train)\n",
        "\n",
        "# Fazer previsões\n",
        "y_pred = model.predict(X_test)\n",
        "\n",
        "# Avaliação do modelo\n",
        "print(\"Acurácia:\", accuracy_score(y_test, y_pred))\n",
        "print(classification_report(y_test, y_pred))"
      ],
      "metadata": {
        "colab": {
          "base_uri": "https://localhost:8080/"
        },
        "id": "NpQKrigoHrA8",
        "outputId": "5b462148-f6bf-4304-8df8-9dd1db5d7bb6"
      },
      "execution_count": 5,
      "outputs": [
        {
          "output_type": "stream",
          "name": "stdout",
          "text": [
            "Acurácia: 0.9204545454545454\n",
            "              precision    recall  f1-score   support\n",
            "\n",
            "           0       0.91      0.93      0.92        44\n",
            "           1       0.93      0.91      0.92        44\n",
            "\n",
            "    accuracy                           0.92        88\n",
            "   macro avg       0.92      0.92      0.92        88\n",
            "weighted avg       0.92      0.92      0.92        88\n",
            "\n"
          ]
        }
      ]
    },
    {
      "cell_type": "markdown",
      "source": [
        "# Testar com novas mensagens"
      ],
      "metadata": {
        "id": "AoBRYFiWO_NA"
      }
    },
    {
      "cell_type": "code",
      "source": [
        "def predict_spam(message):\n",
        "    processed_message = preprocess_text(message)\n",
        "    vectorized_message = vectorizer.transform([processed_message]).toarray()\n",
        "    prediction = model.predict(vectorized_message)\n",
        "    return \"Spam\" if prediction[0] == 1 else \"Não spam\"\n",
        "\n",
        "# Teste\n",
        "print(predict_spam(\"Olá, tudo bem\"))"
      ],
      "metadata": {
        "colab": {
          "base_uri": "https://localhost:8080/"
        },
        "id": "T4D3u-xVOtZq",
        "outputId": "eaa6e25b-7422-4c17-acb3-f3546011b865"
      },
      "execution_count": 6,
      "outputs": [
        {
          "output_type": "stream",
          "name": "stdout",
          "text": [
            "Não spam\n"
          ]
        }
      ]
    },
    {
      "cell_type": "code",
      "source": [
        "import pandas as pd\n",
        "import re\n",
        "import nltk\n",
        "from nltk.corpus import stopwords\n",
        "from nltk.stem import WordNetLemmatizer\n",
        "from sklearn.feature_extraction.text import TfidfVectorizer\n",
        "from sklearn.model_selection import train_test_split\n",
        "from sklearn.svm import SVC\n",
        "from sklearn.metrics import accuracy_score, classification_report\n",
        "\n",
        "# Baixar stopwords e lematizador\n",
        "nltk.download('stopwords')\n",
        "nltk.download('wordnet')\n",
        "\n",
        "# Carregar dataset\n",
        "spam_df = pd.read_csv('dataset_spam_pt_br.txt', sep=',')\n",
        "spam_df['Categoria'] = spam_df['Categoria'].map({'ham': 0, 'spam': 1})\n",
        "\n",
        "# Inicializar ferramentas de NLP\n",
        "stop_words = set(stopwords.words('portuguese'))  # Stopwords em português\n",
        "lemmatizer = WordNetLemmatizer()\n",
        "\n",
        "# Função de pré-processamento de texto\n",
        "def preprocess_text(text):\n",
        "    text = text.lower()  # Converter para minúsculas\n",
        "    text = re.sub(r'http\\S+|www\\S+', '', text)  # Remover URLs\n",
        "    text = re.sub(r'\\d+', '', text)  # Remover números\n",
        "    text = re.sub(r'\\W', ' ', text)  # Remover caracteres especiais\n",
        "    text = re.sub(r'\\s+', ' ', text).strip()  # Remover espaços extras\n",
        "    words = text.split()\n",
        "    words = [lemmatizer.lemmatize(word) for word in words if word not in stop_words]\n",
        "    return ' '.join(words)\n",
        "\n",
        "# Aplicar pré-processamento\n",
        "spam_df['processed_message'] = spam_df['Mensagem'].apply(preprocess_text)\n",
        "\n",
        "# Vetorização TF-IDF com N-grams\n",
        "vectorizer = TfidfVectorizer(max_features=5000, ngram_range=(1,2))\n",
        "X = vectorizer.fit_transform(spam_df['processed_message']).toarray()\n",
        "y = spam_df['Categoria']\n",
        "\n",
        "# Dividir dados em treino e teste\n",
        "X_train, X_test, y_train, y_test = train_test_split(X, y, test_size=0.3, random_state=42)\n",
        "\n",
        "# Treinar modelo SVM\n",
        "model = SVC(kernel='linear', C=1.0)\n",
        "model.fit(X_train, y_train)\n",
        "\n",
        "# Fazer previsões\n",
        "y_pred = model.predict(X_test)\n",
        "\n",
        "# Avaliação do modelo\n",
        "print(\"Acurácia:\", accuracy_score(y_test, y_pred))\n",
        "print(classification_report(y_test, y_pred))\n",
        "\n",
        "# Função para prever mensagens novas\n",
        "def predict_spam(message):\n",
        "    processed_message = preprocess_text(message)\n",
        "    vectorized_message = vectorizer.transform([processed_message]).toarray()\n",
        "    prediction = model.predict(vectorized_message)\n",
        "    return \"Spam\" if prediction[0] == 1 else \"Não Spam\"\n",
        "\n",
        "# Teste\n",
        "print(predict_spam(\"Olá amigo, aproveite as ofertas da semana\"))\n"
      ],
      "metadata": {
        "id": "zfp0zhUwJTWV",
        "colab": {
          "base_uri": "https://localhost:8080/"
        },
        "outputId": "065b8c17-b63e-4ee4-b549-0a55f5ed7039"
      },
      "execution_count": 7,
      "outputs": [
        {
          "output_type": "stream",
          "name": "stderr",
          "text": [
            "[nltk_data] Downloading package stopwords to /root/nltk_data...\n",
            "[nltk_data]   Package stopwords is already up-to-date!\n",
            "[nltk_data] Downloading package wordnet to /root/nltk_data...\n"
          ]
        },
        {
          "output_type": "stream",
          "name": "stdout",
          "text": [
            "Acurácia: 0.8977272727272727\n",
            "              precision    recall  f1-score   support\n",
            "\n",
            "           0       0.86      0.95      0.90        44\n",
            "           1       0.95      0.84      0.89        44\n",
            "\n",
            "    accuracy                           0.90        88\n",
            "   macro avg       0.90      0.90      0.90        88\n",
            "weighted avg       0.90      0.90      0.90        88\n",
            "\n",
            "Spam\n"
          ]
        }
      ]
    },
    {
      "cell_type": "code",
      "source": [],
      "metadata": {
        "id": "lHSDiSC4JXsg"
      },
      "execution_count": 7,
      "outputs": []
    },
    {
      "cell_type": "markdown",
      "source": [
        "# Teste com Random Forest"
      ],
      "metadata": {
        "id": "BVRUltP7lljJ"
      }
    },
    {
      "cell_type": "code",
      "source": [
        "import pandas as pd\n",
        "import re\n",
        "import nltk\n",
        "from nltk.corpus import stopwords\n",
        "from nltk.stem import WordNetLemmatizer\n",
        "from sklearn.feature_extraction.text import TfidfVectorizer\n",
        "from sklearn.model_selection import train_test_split\n",
        "from sklearn.ensemble import RandomForestClassifier\n",
        "from sklearn.metrics import accuracy_score, classification_report\n",
        "\n",
        "# Baixar stopwords e lematizador\n",
        "nltk.download('stopwords')\n",
        "nltk.download('wordnet')\n",
        "\n",
        "# Carregar dataset\n",
        "spam_df = pd.read_csv('dataset_spam_pt_br.txt', sep=',')\n",
        "spam_df['Categoria'] = spam_df['Categoria'].map({'ham': 0, 'spam': 1})\n",
        "\n",
        "# Inicializar ferramentas de NLP\n",
        "stop_words = set(stopwords.words('portuguese'))  # Stopwords em português\n",
        "lemmatizer = WordNetLemmatizer()\n",
        "\n",
        "# Função de pré-processamento de texto\n",
        "def preprocess_text(text):\n",
        "    text = text.lower()  # Converter para minúsculas\n",
        "    text = re.sub(r'http\\S+|www\\S+', '', text)  # Remover URLs\n",
        "    text = re.sub(r'\\d+', '', text)  # Remover números\n",
        "    text = re.sub(r'\\W', ' ', text)  # Remover caracteres especiais\n",
        "    text = re.sub(r'\\s+', ' ', text).strip()  # Remover espaços extras\n",
        "    words = text.split()\n",
        "    words = [lemmatizer.lemmatize(word) for word in words if word not in stop_words]\n",
        "    return ' '.join(words)\n",
        "\n",
        "# Aplicar pré-processamento\n",
        "spam_df['processed_message'] = spam_df['Mensagem'].apply(preprocess_text)\n",
        "\n",
        "# Vetorização TF-IDF com N-grams\n",
        "vectorizer = TfidfVectorizer(max_features=5000, ngram_range=(1,2))\n",
        "X = vectorizer.fit_transform(spam_df['processed_message']).toarray()\n",
        "y = spam_df['Categoria']\n",
        "\n",
        "# Dividir dados em treino e teste\n",
        "X_train, X_test, y_train, y_test = train_test_split(X, y, test_size=0.3, random_state=42)\n",
        "\n",
        "# Treinar modelo Random Forest\n",
        "model = RandomForestClassifier(n_estimators=200, random_state=42)\n",
        "model.fit(X_train, y_train)\n",
        "\n",
        "# Fazer previsões\n",
        "y_pred = model.predict(X_test)\n",
        "\n",
        "# Avaliação do modelo\n",
        "print(\"Acurácia:\", accuracy_score(y_test, y_pred))\n",
        "print(classification_report(y_test, y_pred))\n",
        "\n",
        "# Função para prever mensagens novas\n",
        "def predict_spam(message):\n",
        "    processed_message = preprocess_text(message)\n",
        "    vectorized_message = vectorizer.transform([processed_message]).toarray()\n",
        "    prediction = model.predict(vectorized_message)\n",
        "    return \"Spam\" if prediction[0] == 1 else \"Não Spam\"\n",
        "\n",
        "# Teste\n",
        "print(predict_spam(\"Aproveite nossas promoções de verão!\"))\n"
      ],
      "metadata": {
        "id": "EBuUiRdBlnqv",
        "colab": {
          "base_uri": "https://localhost:8080/"
        },
        "outputId": "de312a39-9a3f-42b9-b903-563a9cfef665"
      },
      "execution_count": 8,
      "outputs": [
        {
          "output_type": "stream",
          "name": "stderr",
          "text": [
            "[nltk_data] Downloading package stopwords to /root/nltk_data...\n",
            "[nltk_data]   Package stopwords is already up-to-date!\n",
            "[nltk_data] Downloading package wordnet to /root/nltk_data...\n",
            "[nltk_data]   Package wordnet is already up-to-date!\n"
          ]
        },
        {
          "output_type": "stream",
          "name": "stdout",
          "text": [
            "Acurácia: 0.7613636363636364\n",
            "              precision    recall  f1-score   support\n",
            "\n",
            "           0       0.68      1.00      0.81        44\n",
            "           1       1.00      0.52      0.69        44\n",
            "\n",
            "    accuracy                           0.76        88\n",
            "   macro avg       0.84      0.76      0.75        88\n",
            "weighted avg       0.84      0.76      0.75        88\n",
            "\n",
            "Não Spam\n"
          ]
        }
      ]
    },
    {
      "cell_type": "code",
      "source": [],
      "metadata": {
        "id": "En-3ji5loMen"
      },
      "execution_count": 8,
      "outputs": []
    }
  ]
}